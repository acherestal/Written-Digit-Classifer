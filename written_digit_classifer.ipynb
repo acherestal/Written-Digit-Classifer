{
  "cells": [
    {
      "cell_type": "code",
      "execution_count": 1,
      "metadata": {
        "colab": {
          "base_uri": "https://localhost:8080/"
        },
        "id": "Nt39cI5O497z",
        "outputId": "8da31e31-05f4-4903-dd6f-976ab0264a58"
      },
      "outputs": [
        {
          "output_type": "stream",
          "name": "stdout",
          "text": [
            "--2022-11-07 17:54:42--  https://github.com/daniel-e/mnist_octave/blob/master/mnist.mat?raw=true\n",
            "Resolving github.com (github.com)... 20.205.243.166\n",
            "Connecting to github.com (github.com)|20.205.243.166|:443... connected.\n",
            "HTTP request sent, awaiting response... 302 Found\n",
            "Location: https://github.com/daniel-e/mnist_octave/raw/master/mnist.mat [following]\n",
            "--2022-11-07 17:54:42--  https://github.com/daniel-e/mnist_octave/raw/master/mnist.mat\n",
            "Reusing existing connection to github.com:443.\n",
            "HTTP request sent, awaiting response... 302 Found\n",
            "Location: https://raw.githubusercontent.com/daniel-e/mnist_octave/master/mnist.mat [following]\n",
            "--2022-11-07 17:54:42--  https://raw.githubusercontent.com/daniel-e/mnist_octave/master/mnist.mat\n",
            "Resolving raw.githubusercontent.com (raw.githubusercontent.com)... 185.199.108.133, 185.199.109.133, 185.199.110.133, ...\n",
            "Connecting to raw.githubusercontent.com (raw.githubusercontent.com)|185.199.108.133|:443... connected.\n",
            "HTTP request sent, awaiting response... 200 OK\n",
            "Length: 14278089 (14M) [application/octet-stream]\n",
            "Saving to: ‘mnist.mat?raw=true’\n",
            "\n",
            "mnist.mat?raw=true  100%[===================>]  13.62M  --.-KB/s    in 0.03s   \n",
            "\n",
            "2022-11-07 17:54:44 (404 MB/s) - ‘mnist.mat?raw=true’ saved [14278089/14278089]\n",
            "\n"
          ]
        }
      ],
      "source": [
        "import numpy as np\n",
        "import matplotlib.pyplot as plt\n",
        "import scipy.io as sio\n",
        "\n",
        "!wget https://github.com/daniel-e/mnist_octave/blob/master/mnist.mat?raw=true\n",
        "data = sio.loadmat('mnist.mat?raw=true')\n"
      ]
    },
    {
      "cell_type": "code",
      "execution_count": 2,
      "metadata": {
        "colab": {
          "base_uri": "https://localhost:8080/"
        },
        "id": "xOGf_RNG7RBw",
        "outputId": "9ec46043-2d76-462f-cee0-45e8500b0542"
      },
      "outputs": [
        {
          "output_type": "execute_result",
          "data": {
            "text/plain": [
              "(60000, 784)"
            ]
          },
          "metadata": {},
          "execution_count": 2
        }
      ],
      "source": [
        "np.shape(data['trainX']) #images "
      ]
    },
    {
      "cell_type": "code",
      "execution_count": 3,
      "metadata": {
        "colab": {
          "base_uri": "https://localhost:8080/"
        },
        "id": "ljm_3Ec67YG6",
        "outputId": "39601b84-ee5c-41e1-820d-e8dd08b88b4c"
      },
      "outputs": [
        {
          "output_type": "execute_result",
          "data": {
            "text/plain": [
              "(1, 60000)"
            ]
          },
          "metadata": {},
          "execution_count": 3
        }
      ],
      "source": [
        "np.shape(data['trainY']) #lables"
      ]
    },
    {
      "cell_type": "code",
      "execution_count": 4,
      "metadata": {
        "colab": {
          "base_uri": "https://localhost:8080/"
        },
        "id": "VaKCmQq5G0_f",
        "outputId": "69dfffdc-03c7-4bba-b5b7-411ede2600d9"
      },
      "outputs": [
        {
          "output_type": "stream",
          "name": "stdout",
          "text": [
            "(1000, 784)\n",
            "(1, 1000)\n"
          ]
        }
      ],
      "source": [
        "# using train data\n",
        "\n",
        "X = data['trainX'][0:1000]\n",
        "Y = data['trainY'][:,:1000]\n",
        "\n",
        "#X = data['trainX']\n",
        "#Y = data['trainY']\n",
        "\n",
        "print(np.shape(X))\n",
        "print(np.shape(Y))"
      ]
    },
    {
      "cell_type": "code",
      "execution_count": 5,
      "metadata": {
        "id": "pL-6RIE6LFer"
      },
      "outputs": [],
      "source": [
        "def euclidean (row1, row2):\n",
        "  distance = 0\n",
        "  for i in range(len(row1)-1):\n",
        "    distance += (int(row1[i]) - int(row2[i]))**2\n",
        "  return np.sqrt(distance)\n",
        "\n",
        "def find_neighbors(dataX, digit):\n",
        "  distance = []\n",
        "  index = []\n",
        "  np.array(distance)\n",
        "  np.array(index)\n",
        "\n",
        "  for x in dataX:\n",
        "    distance.append(euclidean(digit,x))\n",
        "    \n",
        "  index = np.argsort(distance)\n",
        "\n",
        "  return index\n"
      ]
    },
    {
      "cell_type": "code",
      "execution_count": 6,
      "metadata": {
        "id": "POLEu0t1qYkY"
      },
      "outputs": [],
      "source": [
        "def get_label(index,K,x,y):\n",
        "  sorted = []\n",
        "  sl = []\n",
        "  np.array(sorted)\n",
        "  np.array(sl)\n",
        "  \n",
        "  for i in index:\n",
        "    sorted.append(x[i])\n",
        "    sl.append(y[0][i])\n",
        "\n",
        "  dataN = x[:K]\n",
        "  labelN = sl[:K]\n",
        "\n",
        "  return labelN"
      ]
    },
    {
      "cell_type": "code",
      "execution_count": 7,
      "metadata": {
        "id": "1m17Gp5LaBaI"
      },
      "outputs": [],
      "source": [
        "def prediction(l):\n",
        "  classes = [] \n",
        "  for i in l:\n",
        "    classes.append(i)\n",
        "    pred = max(classes, key = classes.count)\n",
        "  return pred"
      ]
    },
    {
      "cell_type": "code",
      "execution_count": 8,
      "metadata": {
        "id": "aVnMXee2uYWR",
        "colab": {
          "base_uri": "https://localhost:8080/"
        },
        "outputId": "7e39f4ff-ff3d-4b56-ec5d-6d8dddc92326"
      },
      "outputs": [
        {
          "output_type": "stream",
          "name": "stdout",
          "text": [
            "[5, 0, 4, 1, 9, 2, 1, 3, 1, 4, 3, 5, 3, 6, 1, 7, 7, 8, 6, 9, 4, 0, 9, 1, 1, 2, 9, 3, 7, 1, 1, 8, 6, 7, 0, 5, 6, 0, 7, 6, 1, 8, 7, 9, 3, 9, 8, 5, 8, 3, 3, 0, 7, 1, 9, 8, 0, 9, 4, 1, 4, 1, 6, 0, 4, 5, 6, 1, 0, 0, 1, 7, 1, 6, 3, 0, 1, 1, 1, 7, 0, 0, 2, 6, 7, 8, 1, 9, 0, 4, 6, 7, 4, 6, 8, 0, 7, 8, 3, 1, 9, 7, 1, 7, 1, 1, 6, 3, 0, 1, 9, 3, 1, 1, 0, 4, 9, 2, 0, 0, 7, 0, 1, 7, 1, 8, 6, 4, 1, 6, 3, 4, 1, 9, 1, 3, 3, 1, 5, 4, 7, 1, 4, 2, 1, 5, 8, 6, 9, 3, 1, 6, 1, 9, 7, 6, 0, 3, 4, 2, 9, 3, 9, 4, 4, 6, 4, 9, 7, 0, 9, 2, 7, 5, 1, 5, 9, 1, 0, 3, 1, 7, 5, 9, 1, 7, 6, 2, 8, 2, 1, 5, 0, 7, 4, 9, 7, 8, 3, 7, 1, 1, 8, 3, 6, 1, 0, 7, 1, 0, 0, 1, 1, 2, 7, 3, 0, 4, 6, 5, 2, 6, 4, 7, 7, 8, 9, 9, 1, 0, 7, 1, 6, 2, 0, 3, 8, 4, 6, 5, 1, 6, 3, 7, 5, 8, 0, 9, 1, 0, 7, 1, 2, 2, 3, 3, 1, 4, 7, 5, 5, 6, 5, 7, 4, 8, 5, 9, 7, 1, 1, 4, 4, 5, 6, 4, 1, 2, 6, 3, 9, 3, 7, 0, 5, 9, 6, 5, 7, 4, 1, 3, 4, 0, 4, 8, 0, 4, 3, 6, 1, 7, 6, 0, 9, 7, 5, 7, 2, 1, 1, 6, 8, 9, 4, 1, 5, 2, 1, 9, 0, 3, 9, 6, 7, 2, 0, 3, 5, 4, 3, 6, 5, 8, 9, 5, 4, 7, 4, 2, 9, 3, 4, 8, 9, 1, 9, 2, 8, 7, 9, 1, 5, 7, 9, 1, 3, 1, 1, 0, 2, 3, 9, 4, 9, 2, 1, 6, 1, 4, 1, 7, 4, 4, 9, 2, 5, 7, 2, 4, 4, 2, 1, 9, 4, 2, 5, 7, 1, 9, 1, 2, 3, 8, 1, 6, 5, 1, 1, 0, 2, 6, 4, 5, 3, 3, 1, 5, 1, 9, 1, 7, 9, 4, 6, 8, 1, 5, 5, 9, 9, 6, 7, 9, 9, 3, 7, 0, 9, 0, 6, 6, 4, 3, 9, 0, 9, 5, 9, 8, 0, 9, 4, 1, 1, 8, 7, 1, 2, 6, 1, 0, 5, 0, 1, 1, 8, 2, 0, 9, 9, 4, 0, 5, 0, 6, 1, 7, 7, 8, 1, 9, 1, 0, 5, 1, 7, 2, 7, 3, 5, 4, 9, 7, 1, 8, 3, 9, 1, 0, 3, 1, 1, 2, 0, 3, 5, 7, 6, 8, 7, 9, 3, 8, 5, 7, 6, 1, 1, 8, 1, 1, 3, 5, 5, 2, 5, 8, 7, 0, 9, 7, 7, 5, 0, 9, 0, 5, 6, 9, 7, 4, 8, 1, 6, 1, 6, 5, 1, 8, 1, 4, 0, 9, 3, 8, 3, 6, 2, 3, 9, 2, 1, 1, 5, 2, 1, 3, 1, 8, 1, 3, 7, 2, 4, 6, 9, 7, 2, 4, 2, 8, 1, 1, 1, 8, 9, 0, 6, 5, 9, 3, 0, 9, 4, 4, 7, 1, 1, 9, 9, 2, 4, 1, 8, 9, 0, 6, 6, 7, 9, 9, 3, 0, 1, 4, 4, 6, 9, 1, 9, 1, 0, 9, 5, 8, 4, 7, 1, 2, 5, 9, 5, 6, 7, 5, 4, 9, 1, 3, 1, 9, 7, 0, 7, 2, 7, 1, 1, 0, 7, 1, 2, 3, 1, 3, 1, 4, 1, 6, 1, 7, 5, 9, 7, 4, 0, 2, 6, 8, 6, 1, 0, 4, 7, 6, 0, 5, 0, 0, 0, 1, 6, 2, 1, 3, 1, 4, 1, 5, 4, 6, 4, 7, 2, 8, 7, 9, 1, 0, 6, 1, 4, 2, 1, 3, 1, 4, 1, 5, 4, 6, 0, 7, 7, 8, 4, 9, 1, 0, 1, 1, 0, 2, 1, 3, 2, 4, 9, 5, 1, 6, 5, 7, 7, 8, 1, 9, 7, 4, 7, 3, 2, 0, 8, 6, 1, 6, 1, 6, 8, 9, 4, 0, 9, 0, 1, 1, 3, 9, 7, 5, 3, 7, 9, 9, 8, 5, 8, 6, 3, 8, 6, 9, 9, 1, 8, 3, 5, 8, 5, 5, 9, 7, 2, 5, 0, 8, 1, 1, 1, 0, 9, 1, 3, 6, 9, 0, 6, 3, 0, 8, 8, 9, 6, 7, 8, 4, 7, 5, 9, 1, 6, 7, 4, 5, 9, 1, 1, 1, 6, 3, 9, 2, 2, 5, 6, 8, 0, 7, 7, 1, 9, 8, 7, 0, 9, 9, 4, 6, 2, 8, 5, 1, 4, 1, 5, 5, 1, 7, 3, 6, 4, 3, 0, 5, 6, 4, 4, 0, 6, 4, 6, 7, 9, 4, 3, 3, 1, 0, 0, 3, 2, 4, 1, 8, 7, 3, 7, 0, 1, 1, 0, 2, 3, 3, 1, 4, 1, 5, 7, 6, 4, 7, 1, 8, 5, 9, 7, 0, 3, 1, 1, 2, 9, 3, 4, 4, 7, 5, 9, 6, 0, 0, 7, 1, 4, 2, 7, 3, 0, 7, 5, 8, 4, 5, 6, 2, 1, 1, 1, 5, 1, 8, 3, 8, 4, 0, 7, 9, 9, 2, 9, 4, 7, 1, 7, 4, 1, 1, 9, 1, 7, 6, 6, 4, 8, 5, 1, 0, 7, 1, 0, 3, 7, 6, 5, 0, 6, 1, 5, 1, 7, 8, 5, 0, 6, 4, 7, 7, 5, 7, 8, 6, 9, 3, 8, 6, 1, 0, 9, 7, 1, 3, 0, 5, 6, 4, 4, 2, 4, 9, 3, 1, 7, 7, 6, 0, 3, 6]\n"
          ]
        }
      ],
      "source": [
        "K = 30\n",
        "P = []\n",
        "np.array(P)\n",
        "\n",
        "\n",
        "for i in X:\n",
        "  index = find_neighbors(X, i)\n",
        "  labelN = get_label(index,K,X,Y)\n",
        "  L = prediction(labelN)\n",
        "  P.append(L)\n",
        "\n",
        "print(P)"
      ]
    },
    {
      "cell_type": "code",
      "execution_count": 9,
      "metadata": {
        "id": "IFSl4x6j0Ca-",
        "colab": {
          "base_uri": "https://localhost:8080/",
          "height": 314
        },
        "outputId": "2c684f59-ae65-4813-e54b-bd2e75fca5fc"
      },
      "outputs": [
        {
          "output_type": "display_data",
          "data": {
            "text/plain": [
              "<Figure size 432x288 with 2 Axes>"
            ],
            "image/png": "[encoded data removed]"
          },
          "metadata": {
            "needs_background": "light"
          }
        },
        {
          "output_type": "stream",
          "name": "stdout",
          "text": [
            "\n",
            "Accuracy for train data: 0.836\n"
          ]
        }
      ],
      "source": [
        "from sklearn import metrics\n",
        "\n",
        "confusion_matrix = metrics.confusion_matrix(P,Y[0], normalize='all')\n",
        "cm_display = metrics.ConfusionMatrixDisplay(confusion_matrix = confusion_matrix, display_labels=[0,2,4,6,8])\n",
        "\n",
        "cm_display.plot(include_values=None)\n",
        "plt.xticks([0,2,4,6,8])\n",
        "plt.xlabel(' ')\n",
        "plt.yticks([0,2,4,6,8])\n",
        "plt.ylabel(' ')\n",
        "\n",
        "plt.savefig('confusion_matrix.png')\n",
        "plt.show()\n",
        "\n",
        "accuracy = metrics.accuracy_score(Y[0], P)\n",
        "print('\\nAccuracy for train data:', accuracy)"
      ]
    },
    {
      "cell_type": "code",
      "source": [
        "# using Test data !\n",
        "\n",
        "X2 = data['testX'][0:300]\n",
        "Y2 = data['testY'][:,:300]\n",
        "\n",
        "#X2 = data['testX']\n",
        "#Y2 = data['testY']\n",
        "\n",
        "K2 = 30\n",
        "P2 = []\n",
        "np.array(P2)\n",
        "\n",
        "\n",
        "for i in X2:\n",
        "  index = find_neighbors(X2, i)\n",
        "  labelN = get_label(index,K2,X2,Y2)\n",
        "  L = prediction(labelN)\n",
        "  P2.append(L)\n",
        "\n",
        "#print(P2)"
      ],
      "metadata": {
        "id": "ttuX8iVBJ1K1"
      },
      "execution_count": 10,
      "outputs": []
    },
    {
      "cell_type": "code",
      "source": [
        "confusion_matrix2 = metrics.confusion_matrix(P2,Y2[0], normalize='all')\n",
        "cm_display2 = metrics.ConfusionMatrixDisplay(confusion_matrix = confusion_matrix, display_labels=[0,2,4,6,8])\n",
        "\n",
        "cm_display2.plot(include_values=None)\n",
        "plt.xticks([0,2,4,6,8])\n",
        "plt.xlabel(' ')\n",
        "plt.yticks([0,2,4,6,8])\n",
        "plt.ylabel(' ')\n",
        "\n",
        "plt.savefig('confusion_matrix2.png')\n",
        "plt.show()\n",
        "\n",
        "accuracy2 = metrics.accuracy_score(Y2[0], P2)\n",
        "print('\\nAccuracy for test data:', accuracy2)"
      ],
      "metadata": {
        "id": "p5XcORWiKnfW",
        "colab": {
          "base_uri": "https://localhost:8080/",
          "height": 314
        },
        "outputId": "774a420e-dc16-4b91-fc1f-2271018d7b98"
      },
      "execution_count": 11,
      "outputs": [
        {
          "output_type": "display_data",
          "data": {
            "text/plain": [
              "<Figure size 432x288 with 2 Axes>"
            ],
            "image/png": "[encoded data removed]"
          },
          "metadata": {
            "needs_background": "light"
          }
        },
        {
          "output_type": "stream",
          "name": "stdout",
          "text": [
            "\n",
            "Accuracy for test data: 0.7466666666666667\n"
          ]
        }
      ]
    }
  ],
  "metadata": {
    "colab": {
      "collapsed_sections": [],
      "provenance": []
    },
    "gpuClass": "premium",
    "kernelspec": {
      "display_name": "Python 3",
      "name": "python3"
    },
    "language_info": {
      "name": "python"
    },
    "accelerator": "GPU"
  },
  "nbformat": 4,
  "nbformat_minor": 0
}